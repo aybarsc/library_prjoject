{
  "nbformat": 4,
  "nbformat_minor": 0,
  "metadata": {
    "colab": {
      "provenance": []
    },
    "kernelspec": {
      "name": "python3",
      "display_name": "Python 3"
    },
    "language_info": {
      "name": "python"
    }
  },
  "cells": [
    {
      "cell_type": "code",
      "execution_count": null,
      "metadata": {
        "colab": {
          "base_uri": "https://localhost:8080/"
        },
        "id": "FSzYjyuAFDXd",
        "outputId": "5e91a0d1-fe76-40e7-e704-42ef42038c78"
      },
      "outputs": [
        {
          "output_type": "stream",
          "name": "stdout",
          "text": [
            "\n",
            "*** MENU ***\n",
            "1) List Books\n",
            "2) Add Book\n",
            "3) Remove Book\n",
            "4) Exit\n"
          ]
        }
      ],
      "source": [
        "class Library:\n",
        "    def __init__(self, filename=\"books.txt\"):\n",
        "        self.filename = filename\n",
        "        self.file = open(self.filename, 'a+')\n",
        "\n",
        "    def __del__(self):\n",
        "        self.file.close()\n",
        "\n",
        "    def list_books(self):\n",
        "        self.file.seek(0)\n",
        "        lines = self.file.read().splitlines()\n",
        "        if not lines:\n",
        "            print(\"No books in the library.\")\n",
        "        else:\n",
        "            for line in lines:\n",
        "                book_info = line.split(', ')\n",
        "                print(f\"Book: {book_info[0]}, Author: {book_info[1]}\")\n",
        "\n",
        "    def add_book(self):\n",
        "        title = input(\"Enter the book title: \")\n",
        "        author = input(\"Enter the book author: \")\n",
        "        release_year = input(\"Enter the first release year: \")\n",
        "        num_pages = input(\"Enter the number of pages: \")\n",
        "\n",
        "        book_info = f\"{title}, {author}, {release_year}, {num_pages}\\n\"\n",
        "        self.file.write(book_info)\n",
        "        print(f\"Book '{title}' added successfully.\")\n",
        "\n",
        "    def remove_book(self):\n",
        "        title_to_remove = input(\"Enter the title of the book to remove: \")\n",
        "        lines = self.file.readlines()\n",
        "        self.file.seek(0)\n",
        "        self.file.truncate()\n",
        "\n",
        "        removed = False\n",
        "        for line in lines:\n",
        "            if title_to_remove not in line:\n",
        "                self.file.write(line)\n",
        "            else:\n",
        "                removed = True\n",
        "\n",
        "        if removed:\n",
        "            print(f\"Book '{title_to_remove}' removed successfully.\")\n",
        "        else:\n",
        "            print(f\"Book '{title_to_remove}' not found in the library.\")\n",
        "\n",
        "# Create an object named \"lib\" with \"Library\" class\n",
        "lib = Library()\n",
        "\n",
        "# Create a menu to interact with the \"lib\" object\n",
        "while True:\n",
        "    print(\"\\n*** MENU ***\")\n",
        "    print(\"1) List Books\")\n",
        "    print(\"2) Add Book\")\n",
        "    print(\"3) Remove Book\")\n",
        "    print(\"4) Exit\")\n",
        "\n",
        "    choice = input(\"Enter your choice (1-4): \")\n",
        "\n",
        "    if choice == '1':\n",
        "        lib.list_books()\n",
        "    elif choice == '2':\n",
        "        lib.add_book()\n",
        "    elif choice == '3':\n",
        "        lib.remove_book()\n",
        "    elif choice == '4':\n",
        "        print(\"Exiting the program...\")\n",
        "        break\n",
        "    else:\n",
        "        print(\"Invalid choice. Please enter a number between 1 and 4.\")"
      ]
    }
  ]
}